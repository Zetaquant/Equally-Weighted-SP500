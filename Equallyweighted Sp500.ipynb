{
 "cells": [
  {
   "cell_type": "markdown",
   "id": "f43f7b0c-9c0a-4e8e-9e89-2f74813e1b5b",
   "metadata": {},
   "source": [
    "# Equally weighted S&P500 strategy"
   ]
  },
  {
   "cell_type": "code",
   "execution_count": 2,
   "id": "95bb41cd-ee7b-4726-b36c-c82193af6798",
   "metadata": {},
   "outputs": [],
   "source": [
    "import numpy as np\n",
    "import pandas as pd\n",
    "import yfinance as yf\n",
    "import matplotlib.pyplot as plt\n",
    "import seaborn as sns\n",
    "sns.set_theme()"
   ]
  },
  {
   "cell_type": "code",
   "execution_count": 4,
   "id": "ae8ca9b1-0a3a-4fea-91dd-e7fff7e57723",
   "metadata": {},
   "outputs": [],
   "source": [
    "url = 'https://en.wikipedia.org/wiki/List_of_S%26P_500_companies'\n",
    "tables = pd.read_html(url)\n",
    "sp500_table = tables[0]\n",
    "\n",
    "output_file = 'sp500_companies.csv'\n",
    "sp500_table.to_csv(output_file, index=False)"
   ]
  },
  {
   "cell_type": "code",
   "execution_count": 6,
   "id": "39e89097-a18d-4d61-ad0b-f24d966e2187",
   "metadata": {},
   "outputs": [
    {
     "data": {
      "text/plain": [
       "0     MMM\n",
       "1     AOS\n",
       "2     ABT\n",
       "3    ABBV\n",
       "4     ACN\n",
       "Name: Symbol, dtype: object"
      ]
     },
     "execution_count": 6,
     "metadata": {},
     "output_type": "execute_result"
    }
   ],
   "source": [
    "sp500 = pd.read_csv('sp500_companies.csv')\n",
    "symbols = sp500['Symbol']\n",
    "\n",
    "symbols.head()"
   ]
  },
  {
   "cell_type": "code",
   "execution_count": 9,
   "id": "ad85ae8a-b314-4ba1-9b9c-7b4a0c3d8b40",
   "metadata": {},
   "outputs": [
    {
     "data": {
      "text/plain": [
       "3019131060224"
      ]
     },
     "execution_count": 9,
     "metadata": {},
     "output_type": "execute_result"
    }
   ],
   "source": [
    "tickers_string = ' '.join(symbols.to_list())\n",
    "all_tickers = yf.Tickers(tickers_string)\n",
    "\n",
    "all_tickers.tickers['AAPL'].info['marketCap']"
   ]
  },
  {
   "cell_type": "code",
   "execution_count": 11,
   "id": "14b8164b-3349-44cf-8e2b-bf48cb5e3a27",
   "metadata": {},
   "outputs": [],
   "source": [
    "data = []\n",
    "\n",
    "for ticker in symbols:\n",
    "    try:\n",
    "        data.append([\n",
    "            ticker,\n",
    "            all_tickers.tickers[ticker].info['previousClose'],\n",
    "            all_tickers.tickers[ticker].info['marketCap']\n",
    "        ])\n",
    "    except KeyError:\n",
    "        continue\n",
    "\n",
    "cols = ['ticker', 'price', 'market_cap']\n",
    "df = pd.DataFrame(data, columns=cols)"
   ]
  },
  {
   "cell_type": "code",
   "execution_count": 12,
   "id": "eebb5415-e60b-4adb-bc83-7d38964467e4",
   "metadata": {},
   "outputs": [
    {
     "data": {
      "text/html": [
       "<div>\n",
       "<style scoped>\n",
       "    .dataframe tbody tr th:only-of-type {\n",
       "        vertical-align: middle;\n",
       "    }\n",
       "\n",
       "    .dataframe tbody tr th {\n",
       "        vertical-align: top;\n",
       "    }\n",
       "\n",
       "    .dataframe thead th {\n",
       "        text-align: right;\n",
       "    }\n",
       "</style>\n",
       "<table border=\"1\" class=\"dataframe\">\n",
       "  <thead>\n",
       "    <tr style=\"text-align: right;\">\n",
       "      <th></th>\n",
       "      <th>ticker</th>\n",
       "      <th>price</th>\n",
       "      <th>market_cap</th>\n",
       "    </tr>\n",
       "  </thead>\n",
       "  <tbody>\n",
       "    <tr>\n",
       "      <th>0</th>\n",
       "      <td>MMM</td>\n",
       "      <td>98.22</td>\n",
       "      <td>55811993600</td>\n",
       "    </tr>\n",
       "    <tr>\n",
       "      <th>1</th>\n",
       "      <td>AOS</td>\n",
       "      <td>80.88</td>\n",
       "      <td>11892003840</td>\n",
       "    </tr>\n",
       "    <tr>\n",
       "      <th>2</th>\n",
       "      <td>ABT</td>\n",
       "      <td>104.27</td>\n",
       "      <td>187149385728</td>\n",
       "    </tr>\n",
       "    <tr>\n",
       "      <th>3</th>\n",
       "      <td>ABBV</td>\n",
       "      <td>168.57</td>\n",
       "      <td>299173675008</td>\n",
       "    </tr>\n",
       "    <tr>\n",
       "      <th>4</th>\n",
       "      <td>ACN</td>\n",
       "      <td>291.74</td>\n",
       "      <td>181325447168</td>\n",
       "    </tr>\n",
       "  </tbody>\n",
       "</table>\n",
       "</div>"
      ],
      "text/plain": [
       "  ticker   price    market_cap\n",
       "0    MMM   98.22   55811993600\n",
       "1    AOS   80.88   11892003840\n",
       "2    ABT  104.27  187149385728\n",
       "3   ABBV  168.57  299173675008\n",
       "4    ACN  291.74  181325447168"
      ]
     },
     "execution_count": 12,
     "metadata": {},
     "output_type": "execute_result"
    }
   ],
   "source": [
    "df.head()"
   ]
  },
  {
   "cell_type": "code",
   "execution_count": 13,
   "id": "90a1dd21-912d-4c54-885c-9da6ef98c490",
   "metadata": {},
   "outputs": [
    {
     "name": "stdout",
     "output_type": "stream",
     "text": [
      "1996.007984031936\n"
     ]
    }
   ],
   "source": [
    "portfolio_size = 1_000_000\n",
    "position_size = portfolio_size / len(df)\n",
    "print(position_size)"
   ]
  },
  {
   "cell_type": "code",
   "execution_count": 19,
   "id": "6d042fe9-d2a5-4ca0-8fd2-47178638a46a",
   "metadata": {},
   "outputs": [],
   "source": [
    "df['shares_to_buy'] = position_size // df['price']"
   ]
  },
  {
   "cell_type": "code",
   "execution_count": 20,
   "id": "a0f6dc86-d059-44f8-9e1c-77c29ddc77f1",
   "metadata": {},
   "outputs": [
    {
     "data": {
      "text/html": [
       "<div>\n",
       "<style scoped>\n",
       "    .dataframe tbody tr th:only-of-type {\n",
       "        vertical-align: middle;\n",
       "    }\n",
       "\n",
       "    .dataframe tbody tr th {\n",
       "        vertical-align: top;\n",
       "    }\n",
       "\n",
       "    .dataframe thead th {\n",
       "        text-align: right;\n",
       "    }\n",
       "</style>\n",
       "<table border=\"1\" class=\"dataframe\">\n",
       "  <thead>\n",
       "    <tr style=\"text-align: right;\">\n",
       "      <th></th>\n",
       "      <th>ticker</th>\n",
       "      <th>price</th>\n",
       "      <th>market_cap</th>\n",
       "      <th>shares_to_buy</th>\n",
       "    </tr>\n",
       "  </thead>\n",
       "  <tbody>\n",
       "    <tr>\n",
       "      <th>0</th>\n",
       "      <td>MMM</td>\n",
       "      <td>98.22</td>\n",
       "      <td>55811993600</td>\n",
       "      <td>20.0</td>\n",
       "    </tr>\n",
       "    <tr>\n",
       "      <th>1</th>\n",
       "      <td>AOS</td>\n",
       "      <td>80.88</td>\n",
       "      <td>11892003840</td>\n",
       "      <td>24.0</td>\n",
       "    </tr>\n",
       "    <tr>\n",
       "      <th>2</th>\n",
       "      <td>ABT</td>\n",
       "      <td>104.27</td>\n",
       "      <td>187149385728</td>\n",
       "      <td>19.0</td>\n",
       "    </tr>\n",
       "    <tr>\n",
       "      <th>3</th>\n",
       "      <td>ABBV</td>\n",
       "      <td>168.57</td>\n",
       "      <td>299173675008</td>\n",
       "      <td>11.0</td>\n",
       "    </tr>\n",
       "    <tr>\n",
       "      <th>4</th>\n",
       "      <td>ACN</td>\n",
       "      <td>291.74</td>\n",
       "      <td>181325447168</td>\n",
       "      <td>6.0</td>\n",
       "    </tr>\n",
       "    <tr>\n",
       "      <th>...</th>\n",
       "      <td>...</td>\n",
       "      <td>...</td>\n",
       "      <td>...</td>\n",
       "      <td>...</td>\n",
       "    </tr>\n",
       "    <tr>\n",
       "      <th>496</th>\n",
       "      <td>XYL</td>\n",
       "      <td>136.87</td>\n",
       "      <td>33292824576</td>\n",
       "      <td>14.0</td>\n",
       "    </tr>\n",
       "    <tr>\n",
       "      <th>497</th>\n",
       "      <td>YUM</td>\n",
       "      <td>140.83</td>\n",
       "      <td>39420030976</td>\n",
       "      <td>14.0</td>\n",
       "    </tr>\n",
       "    <tr>\n",
       "      <th>498</th>\n",
       "      <td>ZBRA</td>\n",
       "      <td>307.49</td>\n",
       "      <td>15468497920</td>\n",
       "      <td>6.0</td>\n",
       "    </tr>\n",
       "    <tr>\n",
       "      <th>499</th>\n",
       "      <td>ZBH</td>\n",
       "      <td>113.37</td>\n",
       "      <td>23317211136</td>\n",
       "      <td>17.0</td>\n",
       "    </tr>\n",
       "    <tr>\n",
       "      <th>500</th>\n",
       "      <td>ZTS</td>\n",
       "      <td>176.78</td>\n",
       "      <td>80727711744</td>\n",
       "      <td>11.0</td>\n",
       "    </tr>\n",
       "  </tbody>\n",
       "</table>\n",
       "<p>501 rows × 4 columns</p>\n",
       "</div>"
      ],
      "text/plain": [
       "    ticker   price    market_cap  shares_to_buy\n",
       "0      MMM   98.22   55811993600           20.0\n",
       "1      AOS   80.88   11892003840           24.0\n",
       "2      ABT  104.27  187149385728           19.0\n",
       "3     ABBV  168.57  299173675008           11.0\n",
       "4      ACN  291.74  181325447168            6.0\n",
       "..     ...     ...           ...            ...\n",
       "496    XYL  136.87   33292824576           14.0\n",
       "497    YUM  140.83   39420030976           14.0\n",
       "498   ZBRA  307.49   15468497920            6.0\n",
       "499    ZBH  113.37   23317211136           17.0\n",
       "500    ZTS  176.78   80727711744           11.0\n",
       "\n",
       "[501 rows x 4 columns]"
      ]
     },
     "execution_count": 20,
     "metadata": {},
     "output_type": "execute_result"
    }
   ],
   "source": [
    "df"
   ]
  },
  {
   "cell_type": "code",
   "execution_count": 21,
   "id": "3ec155c1-2091-4d1f-a062-5a677b7334c1",
   "metadata": {},
   "outputs": [
    {
     "name": "stdout",
     "output_type": "stream",
     "text": [
      "947055.4099999999\n"
     ]
    }
   ],
   "source": [
    "total_portfolio_value = (df['price'] * df['shares_to_buy']).sum()\n",
    "print(total_portfolio_value)"
   ]
  },
  {
   "cell_type": "code",
   "execution_count": 23,
   "id": "477f5b29-75c4-4392-9672-7be36c20012d",
   "metadata": {},
   "outputs": [
    {
     "data": {
      "text/plain": [
       "<Axes: xlabel='shares_to_buy', ylabel='ticker'>"
      ]
     },
     "execution_count": 23,
     "metadata": {},
     "output_type": "execute_result"
    },
    {
     "data": {
      "image/png": "[encoded data removed]",
      "text/plain": [
       "<Figure size 600x800 with 1 Axes>"
      ]
     },
     "metadata": {},
     "output_type": "display_data"
    }
   ],
   "source": [
    "plt.figure(figsize=(6, 8))\n",
    "sns.barplot(df.sort_values(by='shares_to_buy', ascending=False).iloc[:40], x='shares_to_buy', y='ticker')"
   ]
  },
  {
   "cell_type": "code",
   "execution_count": 25,
   "id": "776b4c6e-4834-42f7-a1f3-23bacdfa67a2",
   "metadata": {},
   "outputs": [],
   "source": [
    "df.to_csv('trade_information.csv', index=False)"
   ]
  }
 ],
 "metadata": {
  "kernelspec": {
   "display_name": "Python 3 (ipykernel)",
   "language": "python",
   "name": "python3"
  },
  "language_info": {
   "codemirror_mode": {
    "name": "ipython",
    "version": 3
   },
   "file_extension": ".py",
   "mimetype": "text/x-python",
   "name": "python",
   "nbconvert_exporter": "python",
   "pygments_lexer": "ipython3",
   "version": "3.12.2"
  }
 },
 "nbformat": 4,
 "nbformat_minor": 5
}
